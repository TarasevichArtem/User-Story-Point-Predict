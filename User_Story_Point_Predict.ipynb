{
 "cells": [
  {
   "cell_type": "code",
   "execution_count": null,
   "metadata": {
    "id": "6Aii1l6HujaU"
   },
   "outputs": [],
   "source": [
    "from selenium import webdriver"
   ]
  },
  {
   "cell_type": "code",
   "execution_count": null,
   "metadata": {
    "id": "yS4TOeC1vGhb"
   },
   "outputs": [],
   "source": [
    "driver = webdriver.Chrome('C:\\ProgramFiles\\Chrome\\chromedriver.exe')\n",
    "driver.get('https://provtfsapphq-04.tm.nl.ad.tmo/TMNLCol/TMNL/Eagles/_backlogs/TaskBoard/PI%2046/Rapid%2021.14/Sprint%20179?_a=requirements')\n",
    "sprints = driver.find_elements_by_name('sprints')\n",
    "c = 0\n",
    "k = 0\n",
    "for sprint in sprints:\n",
    "  sprint.click()\n",
    "  storys = driver.find_elements_by_name('story')\n",
    "  for story in storys:\n",
    "    actionChains = ActionChains(driver)\n",
    "    action.double_click(story)\n",
    "    description = driver.find_elements_by_name('discription')\n",
    "    story_point = driver.find_elements_by_name('story_points')\n",
    "    with open('s_' + str(c) + '_' + str(k), 'w') as f:\n",
    "      f.write(description)\n",
    "    with open('p_' + str(c) + '_' + str(k), 'w') as f:\n",
    "      f.write(story_point)"
   ]
  },
  {
   "cell_type": "code",
   "execution_count": null,
   "metadata": {
    "colab": {
     "base_uri": "https://localhost:8080/"
    },
    "id": "5zyj8ekLNgEg",
    "outputId": "e9cb4d1f-4a70-44ca-8b70-6a330d21c5c4"
   },
   "outputs": [],
   "source": [
    "from google.colab import drive\n",
    "drive.mount('/content/drive')"
   ]
  },
  {
   "cell_type": "code",
   "execution_count": null,
   "metadata": {
    "colab": {
     "base_uri": "https://localhost:8080/"
    },
    "id": "2g39eNRYYVJg",
    "outputId": "8f6772d8-b5a3-4904-d655-138cbc0fbda1"
   },
   "outputs": [],
   "source": [
    "import sklearn as sk\n",
    "from sklearn.feature_extraction.text import TfidfTransformer\n",
    "from sklearn.feature_extraction.text import CountVectorizer\n",
    "from sklearn.preprocessing import OneHotEncoder\n",
    "from sklearn.model_selection import train_test_split\n",
    "import numpy as np\n",
    "import pandas as pd\n",
    "import tensorflow as tf\n",
    "from tensorboard.plugins.hparams import api as hp\n",
    "import keras_tuner as kt\n",
    "import re\n",
    "import nltk\n",
    "import os\n",
    "from nltk.corpus import stopwords\n",
    "from nltk.tokenize import word_tokenize\n",
    "from nltk.stem import SnowballStemmer\n",
    "from gensim.models import Word2Vec\n",
    "nltk.download('punkt')\n",
    "nltk.download('stopwords')"
   ]
  },
  {
   "cell_type": "code",
   "execution_count": null,
   "metadata": {
    "id": "WUmMwBTvWwRZ"
   },
   "outputs": [],
   "source": [
    "!mkdir data"
   ]
  },
  {
   "cell_type": "code",
   "execution_count": null,
   "metadata": {
    "colab": {
     "base_uri": "https://localhost:8080/"
    },
    "id": "CGuhefmLvUke",
    "outputId": "7b13bce8-c9ce-4913-b0ea-5b2123f3a49e",
    "scrolled": false
   },
   "outputs": [],
   "source": [
    "!unzip drive/MyDrive/arh.zip -d data"
   ]
  },
  {
   "cell_type": "markdown",
   "metadata": {
    "id": "F_L_llde3ZUZ"
   },
   "source": [
    "# Подключим TPU"
   ]
  },
  {
   "cell_type": "code",
   "execution_count": null,
   "metadata": {
    "colab": {
     "base_uri": "https://localhost:8080/"
    },
    "id": "qvQh-UIVTFYU",
    "outputId": "775939a2-ad00-4a63-9c36-fa12ca349be3"
   },
   "outputs": [],
   "source": [
    "resolver = tf.distribute.cluster_resolver.TPUClusterResolver(tpu='grpc://' + os.environ['COLAB_TPU_ADDR'])\n",
    "tf.config.experimental_connect_to_cluster(resolver)\n",
    "# This is the TPU initialization code that has to be at the beginning.\n",
    "tf.tpu.experimental.initialize_tpu_system(resolver)\n",
    "print(\"All devices: \", tf.config.list_logical_devices('TPU'))\n",
    "strategy = tf.distribute.TPUStrategy(resolver)"
   ]
  },
  {
   "cell_type": "markdown",
   "metadata": {
    "id": "p3OaT3iT3kmX"
   },
   "source": [
    "# Предобработаем данные"
   ]
  },
  {
   "cell_type": "code",
   "execution_count": null,
   "metadata": {
    "id": "6a34pCJAUbtk"
   },
   "outputs": [],
   "source": [
    "stop_words = stopwords.words('english')\n",
    "snowball = SnowballStemmer(language='english')\n",
    "\n",
    "def transform(input_strings):\n",
    "  output_strings=[]\n",
    "  for s in input_strings:\n",
    "    s = re.sub('[^A-Za-z0-9]+', ' ', s).lower().split()\n",
    "    s = [i for i in s if i not in stop_words]\n",
    "    s = [snowball.stem(i) for i in s]\n",
    "    s = ' '.join(s)\n",
    "    output_strings.append(s)\n",
    "  return np.array(output_strings)"
   ]
  },
  {
   "cell_type": "code",
   "execution_count": null,
   "metadata": {
    "id": "mwTIqGJ6YWdV"
   },
   "outputs": [],
   "source": [
    "x = []\n",
    "y = []\n",
    "for i in range(49):\n",
    "  j = 0\n",
    "  while True:\n",
    "    try:\n",
    "      f = open('data/s_' + str(i) + '_' + str(j) + '.txt', 'r', errors='ignore')\n",
    "      s = f.read()\n",
    "      x.append(s)\n",
    "      f.close()\n",
    "      f = open('data/p_' + str(i) + '_' + str(j) + '.txt', 'r', errors='ignore')\n",
    "      y.append([f.read()])\n",
    "      f.close()\n",
    "      j += 1\n",
    "    except:\n",
    "      break"
   ]
  },
  {
   "cell_type": "markdown",
   "metadata": {
    "id": "iZLRiYLl36ZP"
   },
   "source": [
    "# Пример данных"
   ]
  },
  {
   "cell_type": "code",
   "execution_count": null,
   "metadata": {
    "colab": {
     "base_uri": "https://localhost:8080/"
    },
    "id": "Tl-IzulDgTVX",
    "outputId": "0966bb24-5365-47d2-d7b6-e36ebf0004ba"
   },
   "outputs": [],
   "source": [
    "x"
   ]
  },
  {
   "cell_type": "code",
   "execution_count": null,
   "metadata": {
    "id": "4gSEJd7Dhi93"
   },
   "outputs": [],
   "source": [
    "x = np.array(x)\n",
    "y = np.array(y)"
   ]
  },
  {
   "cell_type": "code",
   "execution_count": null,
   "metadata": {
    "id": "11b5DRUdqaGq"
   },
   "outputs": [],
   "source": [
    "x = transform(x)"
   ]
  },
  {
   "cell_type": "code",
   "execution_count": null,
   "metadata": {
    "id": "37rVfnf-Q1-O"
   },
   "outputs": [],
   "source": [
    "y = y[x != '']\n",
    "x = x[x != '']"
   ]
  },
  {
   "cell_type": "code",
   "execution_count": null,
   "metadata": {
    "id": "i4q2it3AkVMP"
   },
   "outputs": [],
   "source": [
    "e = OneHotEncoder()\n",
    "data_y = e.fit_transform(y).toarray()"
   ]
  },
  {
   "cell_type": "code",
   "execution_count": null,
   "metadata": {
    "id": "mouLrhEmUb98"
   },
   "outputs": [],
   "source": [
    "vectorize_layer = tf.keras.layers.experimental.preprocessing.TextVectorization(max_tokens=5000, output_mode='int', output_sequence_length=926)"
   ]
  },
  {
   "cell_type": "code",
   "execution_count": null,
   "metadata": {
    "id": "QK-dWfWGrK1l"
   },
   "outputs": [],
   "source": [
    "vectorize_layer.adapt(x)"
   ]
  },
  {
   "cell_type": "code",
   "execution_count": null,
   "metadata": {
    "id": "UakhYvZvrQBY"
   },
   "outputs": [],
   "source": [
    "x = vectorize_layer(x).numpy()"
   ]
  },
  {
   "cell_type": "code",
   "execution_count": null,
   "metadata": {
    "id": "_mUzxiByoO0Y"
   },
   "outputs": [],
   "source": [
    "x_train, x_test, y_train, y_test = train_test_split(x, data_y, test_size=0.15, random_state=42)"
   ]
  },
  {
   "cell_type": "code",
   "execution_count": null,
   "metadata": {
    "id": "dM52MV2fX0VP"
   },
   "outputs": [],
   "source": [
    "N = 1"
   ]
  },
  {
   "cell_type": "code",
   "execution_count": null,
   "metadata": {
    "id": "zKXXno7WjRgK"
   },
   "outputs": [],
   "source": [
    "def get_model():\n",
    "  with strategy.scope():\n",
    "    model = tf.keras.Sequential()\n",
    "    model.add(tf.keras.layers.Embedding(5000, 200))\n",
    "    model.add(tf.keras.layers.Bidirectional(tf.keras.layers.LSTM(200)))\n",
    "    model.add(tf.keras.layers.Dropout(0.05))\n",
    "    model.add(tf.keras.layers.Dense(500, activation=tf.nn.tanh))\n",
    "    model.add(tf.keras.layers.Dropout(0.05))\n",
    "    model.add(tf.keras.layers.Dense(500, activation=tf.nn.tanh))\n",
    "    model.add(tf.keras.layers.Dropout(0.05))\n",
    "    model.add(tf.keras.layers.Dense(500, activation=tf.nn.tanh))\n",
    "    model.add(tf.keras.layers.Dropout(0.05))\n",
    "    model.add(tf.keras.layers.Dense(500, activation=tf.nn.tanh))\n",
    "    model.add(tf.keras.layers.Dropout(0.05))\n",
    "    model.add(tf.keras.layers.Dense(100, activation=tf.nn.tanh))\n",
    "\n",
    "    model.add(tf.keras.layers.Dense(7, activation=tf.nn.softmax))\n",
    "    model.compile(optimizer='Adam', loss='MSLE', metrics=['accuracy'])\n",
    "    return model"
   ]
  },
  {
   "cell_type": "code",
   "execution_count": null,
   "metadata": {
    "id": "FZ7JxjlcdhAh"
   },
   "outputs": [],
   "source": [
    "model = get_model()"
   ]
  },
  {
   "cell_type": "code",
   "execution_count": null,
   "metadata": {
    "colab": {
     "base_uri": "https://localhost:8080/"
    },
    "id": "W_LUbk9kojEg",
    "outputId": "89ea95ec-1adc-4a79-c1dc-52919c2def58"
   },
   "outputs": [],
   "source": [
    "model.fit(x_train, y_train, epochs=5)"
   ]
  },
  {
   "cell_type": "code",
   "execution_count": null,
   "metadata": {
    "id": "FGb25ptJtV-9"
   },
   "outputs": [],
   "source": [
    "def equals(y_pred, y_real):\n",
    "  if np.argmax(y_pred) - np.argmax(y_real) in [-1, 0, 1]:\n",
    "    return 1\n",
    "  else:\n",
    "    return 0"
   ]
  },
  {
   "cell_type": "code",
   "execution_count": null,
   "metadata": {
    "id": "ci9ijIonHNIY"
   },
   "outputs": [],
   "source": [
    "def get_predict():\n",
    "  y_predict = model.predict(x_test)\n",
    "  y_predict = e.inverse_transform(y_predict)\n",
    "  y_predict = e.transform(y_predict).toarray()\n",
    "  a = np.array([equals(y_predict[i], y_test[i]) for i in range(len(y_test))])\n",
    "  a = a.sum()\n",
    "  a = a / len(y_predict)\n",
    "  return a"
   ]
  },
  {
   "cell_type": "code",
   "execution_count": null,
   "metadata": {
    "colab": {
     "base_uri": "https://localhost:8080/"
    },
    "id": "PgJAPtzMQQk2",
    "outputId": "2cc80d78-eb68-4a09-f0ac-bb9a8ee39bcd"
   },
   "outputs": [],
   "source": [
    "get_predict()"
   ]
  },
  {
   "cell_type": "code",
   "execution_count": null,
   "metadata": {
    "id": "TOpVeYqyYWDq"
   },
   "outputs": [],
   "source": []
  }
 ],
 "metadata": {
  "accelerator": "TPU",
  "colab": {
   "collapsed_sections": [],
   "name": "User_Story_Point_Predict.ipynb",
   "provenance": []
  },
  "kernelspec": {
   "display_name": "Python 3",
   "language": "python",
   "name": "python3"
  },
  "language_info": {
   "codemirror_mode": {
    "name": "ipython",
    "version": 3
   },
   "file_extension": ".py",
   "mimetype": "text/x-python",
   "name": "python",
   "nbconvert_exporter": "python",
   "pygments_lexer": "ipython3",
   "version": "3.7.4"
  }
 },
 "nbformat": 4,
 "nbformat_minor": 1
}
